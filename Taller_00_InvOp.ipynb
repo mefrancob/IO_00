{
  "nbformat": 4,
  "nbformat_minor": 0,
  "metadata": {
    "colab": {
      "provenance": [],
      "authorship_tag": "ABX9TyPeJ87fMWmMojF9nGzz+Rk+",
      "include_colab_link": true
    },
    "kernelspec": {
      "name": "python3",
      "display_name": "Python 3"
    },
    "language_info": {
      "name": "python"
    }
  },
  "cells": [
    {
      "cell_type": "markdown",
      "metadata": {
        "id": "view-in-github",
        "colab_type": "text"
      },
      "source": [
        "<a href=\"https://colab.research.google.com/github/mefrancob/IO_00/blob/main/Taller_00_InvOp.ipynb\" target=\"_parent\"><img src=\"https://colab.research.google.com/assets/colab-badge.svg\" alt=\"Open In Colab\"/></a>"
      ]
    },
    {
      "cell_type": "markdown",
      "source": [
        "#Primer ejercicio\n",
        "## Esto es un subtitulo\n",
        "Esto es texto normal\n"
      ],
      "metadata": {
        "id": "sHOUuWRK5T3b"
      }
    },
    {
      "cell_type": "code",
      "execution_count": 1,
      "metadata": {
        "colab": {
          "base_uri": "https://localhost:8080/"
        },
        "id": "keMLLQrI4RL9",
        "outputId": "180f26e4-9d36-4f16-e5da-737f596e3db4"
      },
      "outputs": [
        {
          "output_type": "stream",
          "name": "stdout",
          "text": [
            "Hola mundo\n"
          ]
        }
      ],
      "source": [
        "print(\"Hola mundo\")"
      ]
    },
    {
      "cell_type": "markdown",
      "source": [
        "# Segundo ejercicio\n",
        "\n"
      ],
      "metadata": {
        "id": "0vKf6-JN4aa9"
      }
    },
    {
      "cell_type": "code",
      "source": [
        "print(\"Buenos dìas, Melissa\")"
      ],
      "metadata": {
        "colab": {
          "base_uri": "https://localhost:8080/"
        },
        "id": "2MZc3Izw5TVT",
        "outputId": "f27fd2f6-aed1-411a-e5ac-5c7ac602ba60"
      },
      "execution_count": 2,
      "outputs": [
        {
          "output_type": "stream",
          "name": "stdout",
          "text": [
            "Buenos dìas, Melissa\n"
          ]
        }
      ]
    }
  ]
}